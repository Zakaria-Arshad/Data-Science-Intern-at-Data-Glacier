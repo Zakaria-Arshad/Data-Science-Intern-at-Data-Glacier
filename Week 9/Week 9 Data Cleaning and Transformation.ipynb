{
 "cells": [
  {
   "cell_type": "code",
   "execution_count": 134,
   "id": "ae93c3b1",
   "metadata": {},
   "outputs": [],
   "source": [
    "import pandas as pd\n",
    "import numpy as np\n",
    "import matplotlib.pyplot as plt\n",
    "import seaborn as sns"
   ]
  },
  {
   "cell_type": "code",
   "execution_count": 135,
   "id": "8a5b8d29",
   "metadata": {},
   "outputs": [],
   "source": [
    "df = pd.read_csv('Week 9 Data Set/bank-additional/bank-additional-full.csv', sep=\";\")"
   ]
  },
  {
   "cell_type": "code",
   "execution_count": 136,
   "id": "8238e154",
   "metadata": {},
   "outputs": [
    {
     "data": {
      "text/html": [
       "<div>\n",
       "<style scoped>\n",
       "    .dataframe tbody tr th:only-of-type {\n",
       "        vertical-align: middle;\n",
       "    }\n",
       "\n",
       "    .dataframe tbody tr th {\n",
       "        vertical-align: top;\n",
       "    }\n",
       "\n",
       "    .dataframe thead th {\n",
       "        text-align: right;\n",
       "    }\n",
       "</style>\n",
       "<table border=\"1\" class=\"dataframe\">\n",
       "  <thead>\n",
       "    <tr style=\"text-align: right;\">\n",
       "      <th></th>\n",
       "      <th>age</th>\n",
       "      <th>duration</th>\n",
       "      <th>campaign</th>\n",
       "      <th>pdays</th>\n",
       "      <th>previous</th>\n",
       "      <th>emp.var.rate</th>\n",
       "      <th>cons.price.idx</th>\n",
       "      <th>cons.conf.idx</th>\n",
       "      <th>euribor3m</th>\n",
       "      <th>nr.employed</th>\n",
       "    </tr>\n",
       "  </thead>\n",
       "  <tbody>\n",
       "    <tr>\n",
       "      <th>count</th>\n",
       "      <td>41188.00000</td>\n",
       "      <td>41188.000000</td>\n",
       "      <td>41188.000000</td>\n",
       "      <td>41188.000000</td>\n",
       "      <td>41188.000000</td>\n",
       "      <td>41188.000000</td>\n",
       "      <td>41188.000000</td>\n",
       "      <td>41188.000000</td>\n",
       "      <td>41188.000000</td>\n",
       "      <td>41188.000000</td>\n",
       "    </tr>\n",
       "    <tr>\n",
       "      <th>mean</th>\n",
       "      <td>40.02406</td>\n",
       "      <td>258.285010</td>\n",
       "      <td>2.567593</td>\n",
       "      <td>962.475454</td>\n",
       "      <td>0.172963</td>\n",
       "      <td>0.081886</td>\n",
       "      <td>93.575664</td>\n",
       "      <td>-40.502600</td>\n",
       "      <td>3.621291</td>\n",
       "      <td>5167.035911</td>\n",
       "    </tr>\n",
       "    <tr>\n",
       "      <th>std</th>\n",
       "      <td>10.42125</td>\n",
       "      <td>259.279249</td>\n",
       "      <td>2.770014</td>\n",
       "      <td>186.910907</td>\n",
       "      <td>0.494901</td>\n",
       "      <td>1.570960</td>\n",
       "      <td>0.578840</td>\n",
       "      <td>4.628198</td>\n",
       "      <td>1.734447</td>\n",
       "      <td>72.251528</td>\n",
       "    </tr>\n",
       "    <tr>\n",
       "      <th>min</th>\n",
       "      <td>17.00000</td>\n",
       "      <td>0.000000</td>\n",
       "      <td>1.000000</td>\n",
       "      <td>0.000000</td>\n",
       "      <td>0.000000</td>\n",
       "      <td>-3.400000</td>\n",
       "      <td>92.201000</td>\n",
       "      <td>-50.800000</td>\n",
       "      <td>0.634000</td>\n",
       "      <td>4963.600000</td>\n",
       "    </tr>\n",
       "    <tr>\n",
       "      <th>25%</th>\n",
       "      <td>32.00000</td>\n",
       "      <td>102.000000</td>\n",
       "      <td>1.000000</td>\n",
       "      <td>999.000000</td>\n",
       "      <td>0.000000</td>\n",
       "      <td>-1.800000</td>\n",
       "      <td>93.075000</td>\n",
       "      <td>-42.700000</td>\n",
       "      <td>1.344000</td>\n",
       "      <td>5099.100000</td>\n",
       "    </tr>\n",
       "    <tr>\n",
       "      <th>50%</th>\n",
       "      <td>38.00000</td>\n",
       "      <td>180.000000</td>\n",
       "      <td>2.000000</td>\n",
       "      <td>999.000000</td>\n",
       "      <td>0.000000</td>\n",
       "      <td>1.100000</td>\n",
       "      <td>93.749000</td>\n",
       "      <td>-41.800000</td>\n",
       "      <td>4.857000</td>\n",
       "      <td>5191.000000</td>\n",
       "    </tr>\n",
       "    <tr>\n",
       "      <th>75%</th>\n",
       "      <td>47.00000</td>\n",
       "      <td>319.000000</td>\n",
       "      <td>3.000000</td>\n",
       "      <td>999.000000</td>\n",
       "      <td>0.000000</td>\n",
       "      <td>1.400000</td>\n",
       "      <td>93.994000</td>\n",
       "      <td>-36.400000</td>\n",
       "      <td>4.961000</td>\n",
       "      <td>5228.100000</td>\n",
       "    </tr>\n",
       "    <tr>\n",
       "      <th>max</th>\n",
       "      <td>98.00000</td>\n",
       "      <td>4918.000000</td>\n",
       "      <td>56.000000</td>\n",
       "      <td>999.000000</td>\n",
       "      <td>7.000000</td>\n",
       "      <td>1.400000</td>\n",
       "      <td>94.767000</td>\n",
       "      <td>-26.900000</td>\n",
       "      <td>5.045000</td>\n",
       "      <td>5228.100000</td>\n",
       "    </tr>\n",
       "  </tbody>\n",
       "</table>\n",
       "</div>"
      ],
      "text/plain": [
       "               age      duration      campaign         pdays      previous  \\\n",
       "count  41188.00000  41188.000000  41188.000000  41188.000000  41188.000000   \n",
       "mean      40.02406    258.285010      2.567593    962.475454      0.172963   \n",
       "std       10.42125    259.279249      2.770014    186.910907      0.494901   \n",
       "min       17.00000      0.000000      1.000000      0.000000      0.000000   \n",
       "25%       32.00000    102.000000      1.000000    999.000000      0.000000   \n",
       "50%       38.00000    180.000000      2.000000    999.000000      0.000000   \n",
       "75%       47.00000    319.000000      3.000000    999.000000      0.000000   \n",
       "max       98.00000   4918.000000     56.000000    999.000000      7.000000   \n",
       "\n",
       "       emp.var.rate  cons.price.idx  cons.conf.idx     euribor3m   nr.employed  \n",
       "count  41188.000000    41188.000000   41188.000000  41188.000000  41188.000000  \n",
       "mean       0.081886       93.575664     -40.502600      3.621291   5167.035911  \n",
       "std        1.570960        0.578840       4.628198      1.734447     72.251528  \n",
       "min       -3.400000       92.201000     -50.800000      0.634000   4963.600000  \n",
       "25%       -1.800000       93.075000     -42.700000      1.344000   5099.100000  \n",
       "50%        1.100000       93.749000     -41.800000      4.857000   5191.000000  \n",
       "75%        1.400000       93.994000     -36.400000      4.961000   5228.100000  \n",
       "max        1.400000       94.767000     -26.900000      5.045000   5228.100000  "
      ]
     },
     "execution_count": 136,
     "metadata": {},
     "output_type": "execute_result"
    }
   ],
   "source": [
    "df.describe()"
   ]
  },
  {
   "cell_type": "code",
   "execution_count": 137,
   "id": "5d5293c2",
   "metadata": {},
   "outputs": [
    {
     "data": {
      "text/plain": [
       "age                 int64\n",
       "job                object\n",
       "marital            object\n",
       "education          object\n",
       "default            object\n",
       "housing            object\n",
       "loan               object\n",
       "contact            object\n",
       "month              object\n",
       "day_of_week        object\n",
       "duration            int64\n",
       "campaign            int64\n",
       "pdays               int64\n",
       "previous            int64\n",
       "poutcome           object\n",
       "emp.var.rate      float64\n",
       "cons.price.idx    float64\n",
       "cons.conf.idx     float64\n",
       "euribor3m         float64\n",
       "nr.employed       float64\n",
       "y                  object\n",
       "dtype: object"
      ]
     },
     "execution_count": 137,
     "metadata": {},
     "output_type": "execute_result"
    }
   ],
   "source": [
    "df.dtypes"
   ]
  },
  {
   "cell_type": "code",
   "execution_count": 138,
   "id": "9aa62c5b",
   "metadata": {},
   "outputs": [
    {
     "data": {
      "text/plain": [
       "age               0\n",
       "job               0\n",
       "marital           0\n",
       "education         0\n",
       "default           0\n",
       "housing           0\n",
       "loan              0\n",
       "contact           0\n",
       "month             0\n",
       "day_of_week       0\n",
       "duration          0\n",
       "campaign          0\n",
       "pdays             0\n",
       "previous          0\n",
       "poutcome          0\n",
       "emp.var.rate      0\n",
       "cons.price.idx    0\n",
       "cons.conf.idx     0\n",
       "euribor3m         0\n",
       "nr.employed       0\n",
       "y                 0\n",
       "dtype: int64"
      ]
     },
     "execution_count": 138,
     "metadata": {},
     "output_type": "execute_result"
    }
   ],
   "source": [
    "df.isna().sum()"
   ]
  },
  {
   "cell_type": "markdown",
   "id": "752bc3ef",
   "metadata": {},
   "source": [
    "## While there are no NA values existing in the dataset, there are 'unknown' values listed in the data documentation. For each of these columns, we can make another column that identifies whether the row has a unknown value or not with a '0' or '1'"
   ]
  },
  {
   "cell_type": "code",
   "execution_count": 139,
   "id": "7f81426b",
   "metadata": {},
   "outputs": [],
   "source": [
    "# Create new columns for unknown values\n",
    "df['job_unknown'] = 0\n",
    "df['marital_unknown'] = 0\n",
    "df['education_unknown'] = 0\n",
    "df['default_unknown'] = 0\n",
    "df['housing_unknown'] = 0\n",
    "df['loan_unknown'] = 0\n",
    "\n",
    "# Set new columns to 1 for rows where value is unknown\n",
    "df.loc[df['job'] == 'unknown', 'job_unknown'] = 1\n",
    "df.loc[df['marital'] == 'unknown', 'marital_unknown'] = 1\n",
    "df.loc[df['education'] == 'unknown', 'education_unknown'] = 1\n",
    "df.loc[df['default'] == 'unknown', 'default_unknown'] = 1\n",
    "df.loc[df['housing'] == 'unknown', 'housing_unknown'] = 1\n",
    "df.loc[df['loan'] == 'unknown', 'loan_unknown'] = 1"
   ]
  },
  {
   "cell_type": "markdown",
   "id": "76c1a003",
   "metadata": {},
   "source": [
    "## Now we can check our output variable to see if there is an imbalance in the data"
   ]
  },
  {
   "cell_type": "code",
   "execution_count": 140,
   "id": "94b781a7",
   "metadata": {},
   "outputs": [
    {
     "data": {
      "text/plain": [
       "no     36548\n",
       "yes     4640\n",
       "Name: y, dtype: int64"
      ]
     },
     "execution_count": 140,
     "metadata": {},
     "output_type": "execute_result"
    }
   ],
   "source": [
    "# Now checking our target variable\n",
    "df['y'].value_counts()"
   ]
  },
  {
   "cell_type": "markdown",
   "id": "8bfe8ae6",
   "metadata": {},
   "source": [
    "# There is an imbalance in our target variables, with 36548 \"no\" data points and 4640 \"yes\" data points. "
   ]
  },
  {
   "cell_type": "markdown",
   "id": "084d1699",
   "metadata": {},
   "source": [
    "### Specifically, the \"no\" and \"yes\" is if the client subscribed a term deposit. This is what we want our model to predict."
   ]
  },
  {
   "cell_type": "markdown",
   "id": "21ea4142",
   "metadata": {},
   "source": [
    "### We will balance the data for modeling, with two seperate categories: datasets balanced with the duration variable, and datasets balanced without. This is because the duration variable is difficult for a business to draw insights from in terms of campaigning."
   ]
  },
  {
   "cell_type": "code",
   "execution_count": 141,
   "id": "f42cff2d",
   "metadata": {},
   "outputs": [
    {
     "data": {
      "text/plain": [
       "90      170\n",
       "85      170\n",
       "136     168\n",
       "73      167\n",
       "124     164\n",
       "       ... \n",
       "1569      1\n",
       "1053      1\n",
       "1263      1\n",
       "1169      1\n",
       "1868      1\n",
       "Name: duration, Length: 1544, dtype: int64"
      ]
     },
     "execution_count": 141,
     "metadata": {},
     "output_type": "execute_result"
    }
   ],
   "source": [
    "df['duration'].value_counts()"
   ]
  },
  {
   "cell_type": "code",
   "execution_count": 142,
   "id": "9b74bef5",
   "metadata": {},
   "outputs": [
    {
     "data": {
      "text/plain": [
       "no    290\n",
       "Name: y, dtype: int64"
      ]
     },
     "execution_count": 142,
     "metadata": {},
     "output_type": "execute_result"
    }
   ],
   "source": [
    "filtered_duration_df = df[df['duration'] < 10]\n",
    "filtered_duration_df['y'].value_counts()"
   ]
  },
  {
   "cell_type": "code",
   "execution_count": 143,
   "id": "3eec0c58",
   "metadata": {},
   "outputs": [
    {
     "data": {
      "text/plain": [
       "no     3101\n",
       "yes       1\n",
       "Name: y, dtype: int64"
      ]
     },
     "execution_count": 143,
     "metadata": {},
     "output_type": "execute_result"
    }
   ],
   "source": [
    "filtered_duration_df = df[df['duration'] < 50]\n",
    "filtered_duration_df['y'].value_counts()"
   ]
  },
  {
   "cell_type": "code",
   "execution_count": 144,
   "id": "9bc6585c",
   "metadata": {},
   "outputs": [
    {
     "data": {
      "text/plain": [
       "no     6164\n",
       "yes      12\n",
       "Name: y, dtype: int64"
      ]
     },
     "execution_count": 144,
     "metadata": {},
     "output_type": "execute_result"
    }
   ],
   "source": [
    "filtered_duration_df = df[df['duration'] < 75]\n",
    "filtered_duration_df['y'].value_counts()"
   ]
  },
  {
   "cell_type": "code",
   "execution_count": 145,
   "id": "dbb509d9",
   "metadata": {},
   "outputs": [
    {
     "data": {
      "text/plain": [
       "no     9804\n",
       "yes      78\n",
       "Name: y, dtype: int64"
      ]
     },
     "execution_count": 145,
     "metadata": {},
     "output_type": "execute_result"
    }
   ],
   "source": [
    "filtered_duration_df = df[df['duration'] < 100]\n",
    "filtered_duration_df['y'].value_counts()"
   ]
  },
  {
   "cell_type": "code",
   "execution_count": 146,
   "id": "7c465352",
   "metadata": {},
   "outputs": [
    {
     "data": {
      "text/plain": [
       "no     13349\n",
       "yes      179\n",
       "Name: y, dtype: int64"
      ]
     },
     "execution_count": 146,
     "metadata": {},
     "output_type": "execute_result"
    }
   ],
   "source": [
    "filtered_duration_df = df[df['duration'] < 125]\n",
    "filtered_duration_df['y'].value_counts()"
   ]
  },
  {
   "cell_type": "code",
   "execution_count": 147,
   "id": "d3b93e52",
   "metadata": {},
   "outputs": [
    {
     "data": {
      "text/plain": [
       "no     16573\n",
       "yes      327\n",
       "Name: y, dtype: int64"
      ]
     },
     "execution_count": 147,
     "metadata": {},
     "output_type": "execute_result"
    }
   ],
   "source": [
    "filtered_duration_df = df[df['duration'] < 150]\n",
    "filtered_duration_df['y'].value_counts()"
   ]
  },
  {
   "cell_type": "code",
   "execution_count": 148,
   "id": "a7d2e9e2",
   "metadata": {},
   "outputs": [
    {
     "data": {
      "text/plain": [
       "no     21946\n",
       "yes      706\n",
       "Name: y, dtype: int64"
      ]
     },
     "execution_count": 148,
     "metadata": {},
     "output_type": "execute_result"
    }
   ],
   "source": [
    "filtered_duration_df = df[df['duration'] < 200]\n",
    "filtered_duration_df['y'].value_counts()"
   ]
  },
  {
   "cell_type": "code",
   "execution_count": 149,
   "id": "57b00c35",
   "metadata": {},
   "outputs": [
    {
     "data": {
      "text/plain": [
       "no     25751\n",
       "yes     1116\n",
       "Name: y, dtype: int64"
      ]
     },
     "execution_count": 149,
     "metadata": {},
     "output_type": "execute_result"
    }
   ],
   "source": [
    "filtered_duration_df = df[df['duration'] < 250]\n",
    "filtered_duration_df['y'].value_counts()"
   ]
  },
  {
   "cell_type": "code",
   "execution_count": 150,
   "id": "f9f47642",
   "metadata": {},
   "outputs": [
    {
     "data": {
      "text/plain": [
       "no     28429\n",
       "yes     1509\n",
       "Name: y, dtype: int64"
      ]
     },
     "execution_count": 150,
     "metadata": {},
     "output_type": "execute_result"
    }
   ],
   "source": [
    "filtered_duration_df = df[df['duration'] < 300]\n",
    "filtered_duration_df['y'].value_counts()"
   ]
  },
  {
   "cell_type": "code",
   "execution_count": 151,
   "id": "afaf1e6f",
   "metadata": {},
   "outputs": [
    {
     "data": {
      "text/plain": [
       "no     31898\n",
       "yes     2091\n",
       "Name: y, dtype: int64"
      ]
     },
     "execution_count": 151,
     "metadata": {},
     "output_type": "execute_result"
    }
   ],
   "source": [
    "filtered_duration_df = df[df['duration'] < 400]\n",
    "filtered_duration_df['y'].value_counts()"
   ]
  },
  {
   "cell_type": "code",
   "execution_count": 152,
   "id": "5e038de1",
   "metadata": {},
   "outputs": [
    {
     "data": {
      "text/plain": [
       "no     2161\n",
       "yes       1\n",
       "Name: y, dtype: int64"
      ]
     },
     "execution_count": 152,
     "metadata": {},
     "output_type": "execute_result"
    }
   ],
   "source": [
    "filtered_duration_df = df[df['duration'] < 38]\n",
    "filtered_duration_df['y'].value_counts()"
   ]
  },
  {
   "cell_type": "code",
   "execution_count": 153,
   "id": "a27c5abb",
   "metadata": {},
   "outputs": [
    {
     "data": {
      "text/plain": [
       "no    2092\n",
       "Name: y, dtype: int64"
      ]
     },
     "execution_count": 153,
     "metadata": {},
     "output_type": "execute_result"
    }
   ],
   "source": [
    "filtered_duration_df = df[df['duration'] < 37]\n",
    "filtered_duration_df['y'].value_counts()"
   ]
  },
  {
   "cell_type": "code",
   "execution_count": 154,
   "id": "1711f596",
   "metadata": {},
   "outputs": [
    {
     "data": {
      "text/plain": [
       "no     34456\n",
       "yes     4640\n",
       "Name: y, dtype: int64"
      ]
     },
     "execution_count": 154,
     "metadata": {},
     "output_type": "execute_result"
    }
   ],
   "source": [
    "filtered_duration_df = df[df['duration'] > 36]\n",
    "filtered_duration_df['y'].value_counts()"
   ]
  },
  {
   "cell_type": "markdown",
   "id": "74bb6431",
   "metadata": {},
   "source": [
    "## Summarization: all data points below 36 seconds in duration column result in \"no\". The amount of \"yes\" answers increase dramatically past 100 seconds. \n",
    "\n",
    "It may be possible to remove all data points below 36 seconds (or other threshold) when modeling to reduce noise."
   ]
  },
  {
   "cell_type": "markdown",
   "id": "0c8d05a8",
   "metadata": {},
   "source": [
    "## We can perform more transformations after we perform the Exploratory Data Analysis. This is a way to prepare our data in the future for modeling."
   ]
  },
  {
   "cell_type": "code",
   "execution_count": 155,
   "id": "4e42f94e",
   "metadata": {},
   "outputs": [
    {
     "data": {
      "text/html": [
       "<div>\n",
       "<style scoped>\n",
       "    .dataframe tbody tr th:only-of-type {\n",
       "        vertical-align: middle;\n",
       "    }\n",
       "\n",
       "    .dataframe tbody tr th {\n",
       "        vertical-align: top;\n",
       "    }\n",
       "\n",
       "    .dataframe thead th {\n",
       "        text-align: right;\n",
       "    }\n",
       "</style>\n",
       "<table border=\"1\" class=\"dataframe\">\n",
       "  <thead>\n",
       "    <tr style=\"text-align: right;\">\n",
       "      <th></th>\n",
       "      <th>age</th>\n",
       "      <th>job</th>\n",
       "      <th>marital</th>\n",
       "      <th>education</th>\n",
       "      <th>default</th>\n",
       "      <th>housing</th>\n",
       "      <th>loan</th>\n",
       "      <th>contact</th>\n",
       "      <th>month</th>\n",
       "      <th>day_of_week</th>\n",
       "      <th>...</th>\n",
       "      <th>cons.conf.idx</th>\n",
       "      <th>euribor3m</th>\n",
       "      <th>nr.employed</th>\n",
       "      <th>y</th>\n",
       "      <th>job_unknown</th>\n",
       "      <th>marital_unknown</th>\n",
       "      <th>education_unknown</th>\n",
       "      <th>default_unknown</th>\n",
       "      <th>housing_unknown</th>\n",
       "      <th>loan_unknown</th>\n",
       "    </tr>\n",
       "  </thead>\n",
       "  <tbody>\n",
       "    <tr>\n",
       "      <th>0</th>\n",
       "      <td>56</td>\n",
       "      <td>housemaid</td>\n",
       "      <td>married</td>\n",
       "      <td>basic.4y</td>\n",
       "      <td>no</td>\n",
       "      <td>no</td>\n",
       "      <td>no</td>\n",
       "      <td>telephone</td>\n",
       "      <td>may</td>\n",
       "      <td>mon</td>\n",
       "      <td>...</td>\n",
       "      <td>-36.4</td>\n",
       "      <td>4.857</td>\n",
       "      <td>5191.0</td>\n",
       "      <td>no</td>\n",
       "      <td>0</td>\n",
       "      <td>0</td>\n",
       "      <td>0</td>\n",
       "      <td>0</td>\n",
       "      <td>0</td>\n",
       "      <td>0</td>\n",
       "    </tr>\n",
       "    <tr>\n",
       "      <th>1</th>\n",
       "      <td>57</td>\n",
       "      <td>services</td>\n",
       "      <td>married</td>\n",
       "      <td>high.school</td>\n",
       "      <td>unknown</td>\n",
       "      <td>no</td>\n",
       "      <td>no</td>\n",
       "      <td>telephone</td>\n",
       "      <td>may</td>\n",
       "      <td>mon</td>\n",
       "      <td>...</td>\n",
       "      <td>-36.4</td>\n",
       "      <td>4.857</td>\n",
       "      <td>5191.0</td>\n",
       "      <td>no</td>\n",
       "      <td>0</td>\n",
       "      <td>0</td>\n",
       "      <td>0</td>\n",
       "      <td>1</td>\n",
       "      <td>0</td>\n",
       "      <td>0</td>\n",
       "    </tr>\n",
       "    <tr>\n",
       "      <th>2</th>\n",
       "      <td>37</td>\n",
       "      <td>services</td>\n",
       "      <td>married</td>\n",
       "      <td>high.school</td>\n",
       "      <td>no</td>\n",
       "      <td>yes</td>\n",
       "      <td>no</td>\n",
       "      <td>telephone</td>\n",
       "      <td>may</td>\n",
       "      <td>mon</td>\n",
       "      <td>...</td>\n",
       "      <td>-36.4</td>\n",
       "      <td>4.857</td>\n",
       "      <td>5191.0</td>\n",
       "      <td>no</td>\n",
       "      <td>0</td>\n",
       "      <td>0</td>\n",
       "      <td>0</td>\n",
       "      <td>0</td>\n",
       "      <td>0</td>\n",
       "      <td>0</td>\n",
       "    </tr>\n",
       "    <tr>\n",
       "      <th>3</th>\n",
       "      <td>40</td>\n",
       "      <td>admin.</td>\n",
       "      <td>married</td>\n",
       "      <td>basic.6y</td>\n",
       "      <td>no</td>\n",
       "      <td>no</td>\n",
       "      <td>no</td>\n",
       "      <td>telephone</td>\n",
       "      <td>may</td>\n",
       "      <td>mon</td>\n",
       "      <td>...</td>\n",
       "      <td>-36.4</td>\n",
       "      <td>4.857</td>\n",
       "      <td>5191.0</td>\n",
       "      <td>no</td>\n",
       "      <td>0</td>\n",
       "      <td>0</td>\n",
       "      <td>0</td>\n",
       "      <td>0</td>\n",
       "      <td>0</td>\n",
       "      <td>0</td>\n",
       "    </tr>\n",
       "    <tr>\n",
       "      <th>4</th>\n",
       "      <td>56</td>\n",
       "      <td>services</td>\n",
       "      <td>married</td>\n",
       "      <td>high.school</td>\n",
       "      <td>no</td>\n",
       "      <td>no</td>\n",
       "      <td>yes</td>\n",
       "      <td>telephone</td>\n",
       "      <td>may</td>\n",
       "      <td>mon</td>\n",
       "      <td>...</td>\n",
       "      <td>-36.4</td>\n",
       "      <td>4.857</td>\n",
       "      <td>5191.0</td>\n",
       "      <td>no</td>\n",
       "      <td>0</td>\n",
       "      <td>0</td>\n",
       "      <td>0</td>\n",
       "      <td>0</td>\n",
       "      <td>0</td>\n",
       "      <td>0</td>\n",
       "    </tr>\n",
       "  </tbody>\n",
       "</table>\n",
       "<p>5 rows × 27 columns</p>\n",
       "</div>"
      ],
      "text/plain": [
       "   age        job  marital    education  default housing loan    contact  \\\n",
       "0   56  housemaid  married     basic.4y       no      no   no  telephone   \n",
       "1   57   services  married  high.school  unknown      no   no  telephone   \n",
       "2   37   services  married  high.school       no     yes   no  telephone   \n",
       "3   40     admin.  married     basic.6y       no      no   no  telephone   \n",
       "4   56   services  married  high.school       no      no  yes  telephone   \n",
       "\n",
       "  month day_of_week  ...  cons.conf.idx  euribor3m  nr.employed   y  \\\n",
       "0   may         mon  ...          -36.4      4.857       5191.0  no   \n",
       "1   may         mon  ...          -36.4      4.857       5191.0  no   \n",
       "2   may         mon  ...          -36.4      4.857       5191.0  no   \n",
       "3   may         mon  ...          -36.4      4.857       5191.0  no   \n",
       "4   may         mon  ...          -36.4      4.857       5191.0  no   \n",
       "\n",
       "  job_unknown  marital_unknown  education_unknown  default_unknown  \\\n",
       "0           0                0                  0                0   \n",
       "1           0                0                  0                1   \n",
       "2           0                0                  0                0   \n",
       "3           0                0                  0                0   \n",
       "4           0                0                  0                0   \n",
       "\n",
       "   housing_unknown  loan_unknown  \n",
       "0                0             0  \n",
       "1                0             0  \n",
       "2                0             0  \n",
       "3                0             0  \n",
       "4                0             0  \n",
       "\n",
       "[5 rows x 27 columns]"
      ]
     },
     "execution_count": 155,
     "metadata": {},
     "output_type": "execute_result"
    }
   ],
   "source": [
    "df.head()"
   ]
  },
  {
   "cell_type": "code",
   "execution_count": 156,
   "id": "e974b684",
   "metadata": {},
   "outputs": [],
   "source": [
    "# Make a filtered csv file with all data points where duration is above 36 seconds\n",
    "filtered_duration_df.to_csv('filtered_duration_bank', index=False)"
   ]
  },
  {
   "cell_type": "code",
   "execution_count": 159,
   "id": "38f9d56f",
   "metadata": {},
   "outputs": [],
   "source": [
    "# Make a new csv file with our new columns. \n",
    "binary_col_bank_full = df.to_csv('binary_col_bank_full', index=False)"
   ]
  }
 ],
 "metadata": {
  "kernelspec": {
   "display_name": "Python 3 (ipykernel)",
   "language": "python",
   "name": "python3"
  },
  "language_info": {
   "codemirror_mode": {
    "name": "ipython",
    "version": 3
   },
   "file_extension": ".py",
   "mimetype": "text/x-python",
   "name": "python",
   "nbconvert_exporter": "python",
   "pygments_lexer": "ipython3",
   "version": "3.9.13"
  }
 },
 "nbformat": 4,
 "nbformat_minor": 5
}
