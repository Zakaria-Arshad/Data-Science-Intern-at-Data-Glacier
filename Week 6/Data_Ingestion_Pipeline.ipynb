{
  "nbformat": 4,
  "nbformat_minor": 0,
  "metadata": {
    "colab": {
      "provenance": []
    },
    "kernelspec": {
      "name": "python3",
      "display_name": "Python 3"
    },
    "language_info": {
      "name": "python"
    }
  },
  "cells": [
    {
      "cell_type": "markdown",
      "source": [
        "# Data Glacier Week 6: Data Ingestion Pipeline\n",
        "## Zakaria Arshad\n",
        "## Submitted on March 4, 2023"
      ],
      "metadata": {
        "id": "yEkiYRir6PV9"
      }
    },
    {
      "cell_type": "code",
      "execution_count": null,
      "metadata": {
        "id": "V06S4BQ3Wq-i"
      },
      "outputs": [],
      "source": [
        "!pip install \"dask[complete]\"\n",
        "!pip install modin[all]\n",
        "!pip install ray[all]"
      ]
    },
    {
      "cell_type": "code",
      "source": [
        "import pandas as pd\n",
        "import dask.dataframe as dd\n",
        "import modin.pandas as mpd\n",
        "import numpy as np\n",
        "import os\n",
        "%env RAY_memory_monitor_refresh_ms=0\n",
        "import ray\n",
        "import time\n",
        "import yaml\n",
        "import gzip"
      ],
      "metadata": {
        "id": "Ra3hdp2UXvrW",
        "colab": {
          "base_uri": "https://localhost:8080/"
        },
        "outputId": "22510348-3310-4e13-f59e-a87bdceb08b8"
      },
      "execution_count": 41,
      "outputs": [
        {
          "output_type": "stream",
          "name": "stdout",
          "text": [
            "env: RAY_memory_monitor_refresh_ms=0\n"
          ]
        }
      ]
    },
    {
      "cell_type": "code",
      "source": [
        "start_time = time.time()\n",
        "\n",
        "chunksize = 100000\n",
        "dfs = []\n",
        "\n",
        "for chunk in pd.read_csv('/content/drive/MyDrive/Data Glacier/Week 6/chess_games.csv', chunksize=chunksize):\n",
        "    dfs.append(chunk)\n",
        "\n",
        "df_p = pd.concat(dfs, ignore_index=True)\n",
        "end_time = time.time()\n",
        "\n",
        "pd_time_taken = end_time - start_time"
      ],
      "metadata": {
        "id": "YXbL2MGAYhyo"
      },
      "execution_count": 3,
      "outputs": []
    },
    {
      "cell_type": "code",
      "source": [
        "start_time = time.time()\n",
        "\n",
        "df_d = dd.read_csv('/content/drive/MyDrive/Data Glacier/Week 6/chess_games.csv')\n",
        "\n",
        "end_time = time.time()\n",
        "\n",
        "dash_time_taken = end_time - start_time"
      ],
      "metadata": {
        "id": "27VVeEjRd4jY"
      },
      "execution_count": 4,
      "outputs": []
    },
    {
      "cell_type": "code",
      "source": [
        "start_time = time.time()\n",
        "\n",
        "df_r = ray.data.read_csv(\"/content/drive/MyDrive/Data Glacier/Week 6/chess_games.csv\")\n",
        "\n",
        "end_time = time.time()\n",
        "\n",
        "ray_time_taken = end_time - start_time"
      ],
      "metadata": {
        "id": "5_w7jGBCjf7o"
      },
      "execution_count": null,
      "outputs": []
    },
    {
      "cell_type": "code",
      "source": [
        "print(f\"Pandas time taken: {pd_time_taken:.2f} seconds\")\n",
        "print(f\"Dash time taken: {dash_time_taken:.2f} seconds\")\n",
        "print(f\"Ray time taken: {ray_time_taken:.2f} seconds\")"
      ],
      "metadata": {
        "colab": {
          "base_uri": "https://localhost:8080/"
        },
        "id": "dQ45PTQ8jq0k",
        "outputId": "a1591c8d-cd27-4ae8-b26b-104c0d20f373"
      },
      "execution_count": 15,
      "outputs": [
        {
          "output_type": "stream",
          "name": "stdout",
          "text": [
            "Pandas time taken: 102.35 seconds\n",
            "Dash time taken: 0.02 seconds\n",
            "Ray time taken: 10.09 seconds\n"
          ]
        }
      ]
    },
    {
      "cell_type": "markdown",
      "source": [
        "# Computational Efficiency\n",
        "\n",
        "The most efficient method was using **Dash**, taking .02 seconds. The second most efficient was **Ray**, with 10.09 seconds. Finally, **Pandas** took far longer, with 102.35 seconds."
      ],
      "metadata": {
        "id": "d7DfSZjjkCW5"
      }
    },
    {
      "cell_type": "code",
      "source": [
        "df_p.head(5)"
      ],
      "metadata": {
        "colab": {
          "base_uri": "https://localhost:8080/",
          "height": 597
        },
        "id": "GY5gsePln4Y2",
        "outputId": "7b669a91-ff02-402a-8130-0119b66eaec5"
      },
      "execution_count": 24,
      "outputs": [
        {
          "output_type": "execute_result",
          "data": {
            "text/plain": [
              "                Event            White       Black Result     UTCDate  \\\n",
              "0          Classical           eisaaaa    HAMID449    1-0  2016.06.30   \n",
              "1              Blitz            go4jas  Sergei1973    0-1  2016.06.30   \n",
              "2   Blitz tournament   Evangelistaizac      kafune    1-0  2016.06.30   \n",
              "3     Correspondence            Jvayne    Wsjvayne    1-0  2016.06.30   \n",
              "4   Blitz tournament            kyoday   BrettDale    0-1  2016.06.30   \n",
              "\n",
              "    UTCTime  WhiteElo  BlackElo  WhiteRatingDiff  BlackRatingDiff  ECO  \\\n",
              "0  22:00:01      1901      1896             11.0            -11.0  D10   \n",
              "1  22:00:01      1641      1627            -11.0             12.0  C20   \n",
              "2  22:00:02      1647      1688             13.0            -13.0  B01   \n",
              "3  22:00:02      1706      1317             27.0            -25.0  A00   \n",
              "4  22:00:02      1945      1900            -14.0             13.0  B90   \n",
              "\n",
              "                                         Opening TimeControl   Termination  \\\n",
              "0                                   Slav Defense       300+5  Time forfeit   \n",
              "1                      King's Pawn Opening: 2.b3       300+0        Normal   \n",
              "2  Scandinavian Defense: Mieses-Kotroc Variation       180+0  Time forfeit   \n",
              "3                           Van't Kruijs Opening           -        Normal   \n",
              "4    Sicilian Defense: Najdorf, Lipnitsky Attack       180+0  Time forfeit   \n",
              "\n",
              "                                                  AN  \n",
              "0  1. d4 d5 2. c4 c6 3. e3 a6 4. Nf3 e5 5. cxd5 e...  \n",
              "1  1. e4 e5 2. b3 Nf6 3. Bb2 Nc6 4. Nf3 d6 5. d3 ...  \n",
              "2  1. e4 d5 2. exd5 Qxd5 3. Nf3 Bg4 4. Be2 Nf6 5....  \n",
              "3  1. e3 Nf6 2. Bc4 d6 3. e4 e6 4. Nf3 Nxe4 5. Nd...  \n",
              "4  1. e4 c5 2. Nf3 d6 3. d4 cxd4 4. Nxd4 Nf6 5. N...  "
            ],
            "text/html": [
              "\n",
              "  <div id=\"df-8aabf5ad-3a55-4fff-b117-79dccc56b6ab\">\n",
              "    <div class=\"colab-df-container\">\n",
              "      <div>\n",
              "<style scoped>\n",
              "    .dataframe tbody tr th:only-of-type {\n",
              "        vertical-align: middle;\n",
              "    }\n",
              "\n",
              "    .dataframe tbody tr th {\n",
              "        vertical-align: top;\n",
              "    }\n",
              "\n",
              "    .dataframe thead th {\n",
              "        text-align: right;\n",
              "    }\n",
              "</style>\n",
              "<table border=\"1\" class=\"dataframe\">\n",
              "  <thead>\n",
              "    <tr style=\"text-align: right;\">\n",
              "      <th></th>\n",
              "      <th>Event</th>\n",
              "      <th>White</th>\n",
              "      <th>Black</th>\n",
              "      <th>Result</th>\n",
              "      <th>UTCDate</th>\n",
              "      <th>UTCTime</th>\n",
              "      <th>WhiteElo</th>\n",
              "      <th>BlackElo</th>\n",
              "      <th>WhiteRatingDiff</th>\n",
              "      <th>BlackRatingDiff</th>\n",
              "      <th>ECO</th>\n",
              "      <th>Opening</th>\n",
              "      <th>TimeControl</th>\n",
              "      <th>Termination</th>\n",
              "      <th>AN</th>\n",
              "    </tr>\n",
              "  </thead>\n",
              "  <tbody>\n",
              "    <tr>\n",
              "      <th>0</th>\n",
              "      <td>Classical</td>\n",
              "      <td>eisaaaa</td>\n",
              "      <td>HAMID449</td>\n",
              "      <td>1-0</td>\n",
              "      <td>2016.06.30</td>\n",
              "      <td>22:00:01</td>\n",
              "      <td>1901</td>\n",
              "      <td>1896</td>\n",
              "      <td>11.0</td>\n",
              "      <td>-11.0</td>\n",
              "      <td>D10</td>\n",
              "      <td>Slav Defense</td>\n",
              "      <td>300+5</td>\n",
              "      <td>Time forfeit</td>\n",
              "      <td>1. d4 d5 2. c4 c6 3. e3 a6 4. Nf3 e5 5. cxd5 e...</td>\n",
              "    </tr>\n",
              "    <tr>\n",
              "      <th>1</th>\n",
              "      <td>Blitz</td>\n",
              "      <td>go4jas</td>\n",
              "      <td>Sergei1973</td>\n",
              "      <td>0-1</td>\n",
              "      <td>2016.06.30</td>\n",
              "      <td>22:00:01</td>\n",
              "      <td>1641</td>\n",
              "      <td>1627</td>\n",
              "      <td>-11.0</td>\n",
              "      <td>12.0</td>\n",
              "      <td>C20</td>\n",
              "      <td>King's Pawn Opening: 2.b3</td>\n",
              "      <td>300+0</td>\n",
              "      <td>Normal</td>\n",
              "      <td>1. e4 e5 2. b3 Nf6 3. Bb2 Nc6 4. Nf3 d6 5. d3 ...</td>\n",
              "    </tr>\n",
              "    <tr>\n",
              "      <th>2</th>\n",
              "      <td>Blitz tournament</td>\n",
              "      <td>Evangelistaizac</td>\n",
              "      <td>kafune</td>\n",
              "      <td>1-0</td>\n",
              "      <td>2016.06.30</td>\n",
              "      <td>22:00:02</td>\n",
              "      <td>1647</td>\n",
              "      <td>1688</td>\n",
              "      <td>13.0</td>\n",
              "      <td>-13.0</td>\n",
              "      <td>B01</td>\n",
              "      <td>Scandinavian Defense: Mieses-Kotroc Variation</td>\n",
              "      <td>180+0</td>\n",
              "      <td>Time forfeit</td>\n",
              "      <td>1. e4 d5 2. exd5 Qxd5 3. Nf3 Bg4 4. Be2 Nf6 5....</td>\n",
              "    </tr>\n",
              "    <tr>\n",
              "      <th>3</th>\n",
              "      <td>Correspondence</td>\n",
              "      <td>Jvayne</td>\n",
              "      <td>Wsjvayne</td>\n",
              "      <td>1-0</td>\n",
              "      <td>2016.06.30</td>\n",
              "      <td>22:00:02</td>\n",
              "      <td>1706</td>\n",
              "      <td>1317</td>\n",
              "      <td>27.0</td>\n",
              "      <td>-25.0</td>\n",
              "      <td>A00</td>\n",
              "      <td>Van't Kruijs Opening</td>\n",
              "      <td>-</td>\n",
              "      <td>Normal</td>\n",
              "      <td>1. e3 Nf6 2. Bc4 d6 3. e4 e6 4. Nf3 Nxe4 5. Nd...</td>\n",
              "    </tr>\n",
              "    <tr>\n",
              "      <th>4</th>\n",
              "      <td>Blitz tournament</td>\n",
              "      <td>kyoday</td>\n",
              "      <td>BrettDale</td>\n",
              "      <td>0-1</td>\n",
              "      <td>2016.06.30</td>\n",
              "      <td>22:00:02</td>\n",
              "      <td>1945</td>\n",
              "      <td>1900</td>\n",
              "      <td>-14.0</td>\n",
              "      <td>13.0</td>\n",
              "      <td>B90</td>\n",
              "      <td>Sicilian Defense: Najdorf, Lipnitsky Attack</td>\n",
              "      <td>180+0</td>\n",
              "      <td>Time forfeit</td>\n",
              "      <td>1. e4 c5 2. Nf3 d6 3. d4 cxd4 4. Nxd4 Nf6 5. N...</td>\n",
              "    </tr>\n",
              "  </tbody>\n",
              "</table>\n",
              "</div>\n",
              "      <button class=\"colab-df-convert\" onclick=\"convertToInteractive('df-8aabf5ad-3a55-4fff-b117-79dccc56b6ab')\"\n",
              "              title=\"Convert this dataframe to an interactive table.\"\n",
              "              style=\"display:none;\">\n",
              "        \n",
              "  <svg xmlns=\"http://www.w3.org/2000/svg\" height=\"24px\"viewBox=\"0 0 24 24\"\n",
              "       width=\"24px\">\n",
              "    <path d=\"M0 0h24v24H0V0z\" fill=\"none\"/>\n",
              "    <path d=\"M18.56 5.44l.94 2.06.94-2.06 2.06-.94-2.06-.94-.94-2.06-.94 2.06-2.06.94zm-11 1L8.5 8.5l.94-2.06 2.06-.94-2.06-.94L8.5 2.5l-.94 2.06-2.06.94zm10 10l.94 2.06.94-2.06 2.06-.94-2.06-.94-.94-2.06-.94 2.06-2.06.94z\"/><path d=\"M17.41 7.96l-1.37-1.37c-.4-.4-.92-.59-1.43-.59-.52 0-1.04.2-1.43.59L10.3 9.45l-7.72 7.72c-.78.78-.78 2.05 0 2.83L4 21.41c.39.39.9.59 1.41.59.51 0 1.02-.2 1.41-.59l7.78-7.78 2.81-2.81c.8-.78.8-2.07 0-2.86zM5.41 20L4 18.59l7.72-7.72 1.47 1.35L5.41 20z\"/>\n",
              "  </svg>\n",
              "      </button>\n",
              "      \n",
              "  <style>\n",
              "    .colab-df-container {\n",
              "      display:flex;\n",
              "      flex-wrap:wrap;\n",
              "      gap: 12px;\n",
              "    }\n",
              "\n",
              "    .colab-df-convert {\n",
              "      background-color: #E8F0FE;\n",
              "      border: none;\n",
              "      border-radius: 50%;\n",
              "      cursor: pointer;\n",
              "      display: none;\n",
              "      fill: #1967D2;\n",
              "      height: 32px;\n",
              "      padding: 0 0 0 0;\n",
              "      width: 32px;\n",
              "    }\n",
              "\n",
              "    .colab-df-convert:hover {\n",
              "      background-color: #E2EBFA;\n",
              "      box-shadow: 0px 1px 2px rgba(60, 64, 67, 0.3), 0px 1px 3px 1px rgba(60, 64, 67, 0.15);\n",
              "      fill: #174EA6;\n",
              "    }\n",
              "\n",
              "    [theme=dark] .colab-df-convert {\n",
              "      background-color: #3B4455;\n",
              "      fill: #D2E3FC;\n",
              "    }\n",
              "\n",
              "    [theme=dark] .colab-df-convert:hover {\n",
              "      background-color: #434B5C;\n",
              "      box-shadow: 0px 1px 3px 1px rgba(0, 0, 0, 0.15);\n",
              "      filter: drop-shadow(0px 1px 2px rgba(0, 0, 0, 0.3));\n",
              "      fill: #FFFFFF;\n",
              "    }\n",
              "  </style>\n",
              "\n",
              "      <script>\n",
              "        const buttonEl =\n",
              "          document.querySelector('#df-8aabf5ad-3a55-4fff-b117-79dccc56b6ab button.colab-df-convert');\n",
              "        buttonEl.style.display =\n",
              "          google.colab.kernel.accessAllowed ? 'block' : 'none';\n",
              "\n",
              "        async function convertToInteractive(key) {\n",
              "          const element = document.querySelector('#df-8aabf5ad-3a55-4fff-b117-79dccc56b6ab');\n",
              "          const dataTable =\n",
              "            await google.colab.kernel.invokeFunction('convertToInteractive',\n",
              "                                                     [key], {});\n",
              "          if (!dataTable) return;\n",
              "\n",
              "          const docLinkHtml = 'Like what you see? Visit the ' +\n",
              "            '<a target=\"_blank\" href=https://colab.research.google.com/notebooks/data_table.ipynb>data table notebook</a>'\n",
              "            + ' to learn more about interactive tables.';\n",
              "          element.innerHTML = '';\n",
              "          dataTable['output_type'] = 'display_data';\n",
              "          await google.colab.output.renderOutput(dataTable, element);\n",
              "          const docLink = document.createElement('div');\n",
              "          docLink.innerHTML = docLinkHtml;\n",
              "          element.appendChild(docLink);\n",
              "        }\n",
              "      </script>\n",
              "    </div>\n",
              "  </div>\n",
              "  "
            ]
          },
          "metadata": {},
          "execution_count": 24
        }
      ]
    },
    {
      "cell_type": "code",
      "source": [
        "df_d.info()"
      ],
      "metadata": {
        "colab": {
          "base_uri": "https://localhost:8080/"
        },
        "id": "8482E_HzrBCH",
        "outputId": "22c23de7-bc9f-4384-c987-01a7206977ab"
      },
      "execution_count": 26,
      "outputs": [
        {
          "output_type": "stream",
          "name": "stdout",
          "text": [
            "<class 'dask.dataframe.core.DataFrame'>\n",
            "Columns: 15 entries, Event to AN\n",
            "dtypes: object(11), float64(2), int64(2)"
          ]
        }
      ]
    },
    {
      "cell_type": "code",
      "source": [
        "row_num = len(df_d.index)\n",
        "print(f\"The number of rows is {row_num}.\")"
      ],
      "metadata": {
        "colab": {
          "base_uri": "https://localhost:8080/"
        },
        "id": "NV29ZVcJrft1",
        "outputId": "6751c971-d09a-4c14-bfc0-ebbe24d034de"
      },
      "execution_count": 28,
      "outputs": [
        {
          "output_type": "stream",
          "name": "stdout",
          "text": [
            "The number of rows is 6256184.\n"
          ]
        }
      ]
    },
    {
      "cell_type": "code",
      "source": [
        "col_num = len(df_d.columns)\n",
        "print(f\"The number of columns is {col_num}.\")"
      ],
      "metadata": {
        "colab": {
          "base_uri": "https://localhost:8080/"
        },
        "id": "346Wt8FgsHl-",
        "outputId": "2e4faf93-485a-4a95-ecfd-a911d4c94442"
      },
      "execution_count": 29,
      "outputs": [
        {
          "output_type": "stream",
          "name": "stdout",
          "text": [
            "The number of columns is 15.\n"
          ]
        }
      ]
    },
    {
      "cell_type": "markdown",
      "source": [
        "# Column Validation\n",
        "Removing all special characters and whitespace that may exist in column names."
      ],
      "metadata": {
        "id": "hg1h7jjssiWa"
      }
    },
    {
      "cell_type": "code",
      "source": [
        "df_d.columns = df_d.columns.str.replace('[!,@,#,$,%,^,&,*]', '')\n",
        "df_d.columns = df_d.columns.str.replace(' ', '')"
      ],
      "metadata": {
        "id": "mOeqxqLlskIs"
      },
      "execution_count": null,
      "outputs": []
    },
    {
      "cell_type": "code",
      "source": [
        "df_d_columns = df_d.columns\n",
        "df_d_columns"
      ],
      "metadata": {
        "colab": {
          "base_uri": "https://localhost:8080/"
        },
        "id": "5mey5vA_s9nk",
        "outputId": "8b3e1ea9-2180-4284-899a-66529dd25e19"
      },
      "execution_count": 33,
      "outputs": [
        {
          "output_type": "execute_result",
          "data": {
            "text/plain": [
              "Index(['Event', 'White', 'Black', 'Result', 'UTCDate', 'UTCTime', 'WhiteElo',\n",
              "       'BlackElo', 'WhiteRatingDiff', 'BlackRatingDiff', 'ECO', 'Opening',\n",
              "       'TimeControl', 'Termination', 'AN'],\n",
              "      dtype='object')"
            ]
          },
          "metadata": {},
          "execution_count": 33
        }
      ]
    },
    {
      "cell_type": "markdown",
      "source": [
        "# Validation Process using YAML"
      ],
      "metadata": {
        "id": "Ex_cEqqItfmf"
      }
    },
    {
      "cell_type": "code",
      "source": [
        "import yaml\n",
        "\n",
        "column_names = df_d.columns.tolist()\n",
        "\n",
        "with open(\"columns.yaml\", \"w\") as file:\n",
        "    yaml.dump(column_names, file)"
      ],
      "metadata": {
        "id": "X_gvQobptiow"
      },
      "execution_count": 34,
      "outputs": []
    },
    {
      "cell_type": "markdown",
      "source": [
        "The above code created a YAML file and wrote the column names to the file columns.yaml."
      ],
      "metadata": {
        "id": "PJHvVIN_vJfq"
      }
    },
    {
      "cell_type": "code",
      "source": [
        "with open(\"columns.yaml\", \"r\") as file:\n",
        "    expected_columns = yaml.safe_load(file)\n",
        "\n",
        "actual_columns = df_d.columns.tolist()\n",
        "\n",
        "if expected_columns != actual_columns:\n",
        "    raise ValueError(\"Column names do not match YAML file.\")\n",
        "\n",
        "expected_num_cols = len(expected_columns)\n",
        "actual_num_cols = len(actual_columns)\n",
        "\n",
        "if expected_num_cols != actual_num_cols:\n",
        "    raise ValueError(\"Number of columns does not match YAML file.\")"
      ],
      "metadata": {
        "id": "LUXyPyY-vQqW"
      },
      "execution_count": 35,
      "outputs": []
    },
    {
      "cell_type": "markdown",
      "source": [
        "No errors were raised, thus we have validated that the columns are the same."
      ],
      "metadata": {
        "id": "Kt58NXdGvbZ5"
      }
    },
    {
      "cell_type": "code",
      "source": [
        "df_d.to_csv('output_file.csv.gz', sep='|', compression='gzip', index=False)"
      ],
      "metadata": {
        "colab": {
          "base_uri": "https://localhost:8080/"
        },
        "id": "GrkLnKc0vsLM",
        "outputId": "feeb01dc-ac32-4474-a17c-a7771d908136"
      },
      "execution_count": 40,
      "outputs": [
        {
          "output_type": "execute_result",
          "data": {
            "text/plain": [
              "['/content/output_file.csv.gz/00.part',\n",
              " '/content/output_file.csv.gz/01.part',\n",
              " '/content/output_file.csv.gz/02.part',\n",
              " '/content/output_file.csv.gz/03.part',\n",
              " '/content/output_file.csv.gz/04.part',\n",
              " '/content/output_file.csv.gz/05.part',\n",
              " '/content/output_file.csv.gz/06.part',\n",
              " '/content/output_file.csv.gz/07.part',\n",
              " '/content/output_file.csv.gz/08.part',\n",
              " '/content/output_file.csv.gz/09.part',\n",
              " '/content/output_file.csv.gz/10.part',\n",
              " '/content/output_file.csv.gz/11.part',\n",
              " '/content/output_file.csv.gz/12.part',\n",
              " '/content/output_file.csv.gz/13.part',\n",
              " '/content/output_file.csv.gz/14.part',\n",
              " '/content/output_file.csv.gz/15.part',\n",
              " '/content/output_file.csv.gz/16.part',\n",
              " '/content/output_file.csv.gz/17.part',\n",
              " '/content/output_file.csv.gz/18.part',\n",
              " '/content/output_file.csv.gz/19.part',\n",
              " '/content/output_file.csv.gz/20.part',\n",
              " '/content/output_file.csv.gz/21.part',\n",
              " '/content/output_file.csv.gz/22.part',\n",
              " '/content/output_file.csv.gz/23.part',\n",
              " '/content/output_file.csv.gz/24.part',\n",
              " '/content/output_file.csv.gz/25.part',\n",
              " '/content/output_file.csv.gz/26.part',\n",
              " '/content/output_file.csv.gz/27.part',\n",
              " '/content/output_file.csv.gz/28.part',\n",
              " '/content/output_file.csv.gz/29.part',\n",
              " '/content/output_file.csv.gz/30.part',\n",
              " '/content/output_file.csv.gz/31.part',\n",
              " '/content/output_file.csv.gz/32.part',\n",
              " '/content/output_file.csv.gz/33.part',\n",
              " '/content/output_file.csv.gz/34.part',\n",
              " '/content/output_file.csv.gz/35.part',\n",
              " '/content/output_file.csv.gz/36.part',\n",
              " '/content/output_file.csv.gz/37.part',\n",
              " '/content/output_file.csv.gz/38.part',\n",
              " '/content/output_file.csv.gz/39.part',\n",
              " '/content/output_file.csv.gz/40.part',\n",
              " '/content/output_file.csv.gz/41.part',\n",
              " '/content/output_file.csv.gz/42.part',\n",
              " '/content/output_file.csv.gz/43.part',\n",
              " '/content/output_file.csv.gz/44.part',\n",
              " '/content/output_file.csv.gz/45.part',\n",
              " '/content/output_file.csv.gz/46.part',\n",
              " '/content/output_file.csv.gz/47.part',\n",
              " '/content/output_file.csv.gz/48.part',\n",
              " '/content/output_file.csv.gz/49.part',\n",
              " '/content/output_file.csv.gz/50.part',\n",
              " '/content/output_file.csv.gz/51.part',\n",
              " '/content/output_file.csv.gz/52.part',\n",
              " '/content/output_file.csv.gz/53.part',\n",
              " '/content/output_file.csv.gz/54.part',\n",
              " '/content/output_file.csv.gz/55.part',\n",
              " '/content/output_file.csv.gz/56.part',\n",
              " '/content/output_file.csv.gz/57.part',\n",
              " '/content/output_file.csv.gz/58.part',\n",
              " '/content/output_file.csv.gz/59.part',\n",
              " '/content/output_file.csv.gz/60.part',\n",
              " '/content/output_file.csv.gz/61.part',\n",
              " '/content/output_file.csv.gz/62.part',\n",
              " '/content/output_file.csv.gz/63.part',\n",
              " '/content/output_file.csv.gz/64.part',\n",
              " '/content/output_file.csv.gz/65.part',\n",
              " '/content/output_file.csv.gz/66.part',\n",
              " '/content/output_file.csv.gz/67.part']"
            ]
          },
          "metadata": {},
          "execution_count": 40
        }
      ]
    },
    {
      "cell_type": "code",
      "source": [
        "filename = 'output_file.csv.gz'"
      ],
      "metadata": {
        "id": "SYIQW8894QnW"
      },
      "execution_count": 42,
      "outputs": []
    },
    {
      "cell_type": "code",
      "source": [
        "file_size = os.path.getsize(filename)\n",
        "print(f\"The file size is {file_size} bytes.\")\n",
        "print(f\"The number of rows is {row_num}.\")\n",
        "print(f\"The number of columns is {col_num}.\")"
      ],
      "metadata": {
        "colab": {
          "base_uri": "https://localhost:8080/"
        },
        "id": "lVuV8BWt5RKK",
        "outputId": "8246d3ed-a8d7-4dd0-8aba-9a507dbce0dd"
      },
      "execution_count": 49,
      "outputs": [
        {
          "output_type": "stream",
          "name": "stdout",
          "text": [
            "The file size is 4096 bytes.\n",
            "The number of rows is 6256184.\n",
            "The number of columns is 15.\n"
          ]
        }
      ]
    }
  ]
}